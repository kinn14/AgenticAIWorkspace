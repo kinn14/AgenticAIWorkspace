{
 "cells": [
  {
   "cell_type": "code",
   "execution_count": null,
   "metadata": {},
   "outputs": [],
   "source": [
    "from typing_extensions import TypedDict\n",
    "class State(TypedDict):\n",
    "    graph_state: str"
   ]
  },
  {
   "cell_type": "code",
   "execution_count": null,
   "metadata": {},
   "outputs": [],
   "source": [
    "def first_node(state:State) :\n",
    "    print(\"My first node is called\")\n",
    "    return {\"graph_state\": state[\"graph_state\"]+\"I am playing \"}\n",
    "\n",
    "def second_node(state:State) :\n",
    "    print(\"My second node is called\")\n",
    "    return {\"graph_state\": state[\"graph_state\"]+\"cricket\"}\n",
    "\n",
    "def third_node(state:State) :\n",
    "    print(\"My third node is called\")\n",
    "    return {\"graph_state\": state[\"graph_state\"]+\"basketball\"}\n"
   ]
  },
  {
   "cell_type": "code",
   "execution_count": null,
   "metadata": {},
   "outputs": [],
   "source": [
    "import random\n",
    "from typing import Literal\n",
    "\n",
    "\n",
    "## This function is called to decide which node to play next which will be LLM in future\n",
    "def decide_play(state)->Literal['second_node', 'third_node']:\n",
    "    graph_state = state[\"graph_state\"]\n",
    "    if random.random() > 0.5:\n",
    "        return 'third_node'\n",
    "    return 'second_node'\n"
   ]
  },
  {
   "cell_type": "markdown",
   "metadata": {},
   "source": [
    "## GRAPH"
   ]
  },
  {
   "cell_type": "code",
   "execution_count": null,
   "metadata": {},
   "outputs": [],
   "source": [
    "from IPython.display import Image, display\n",
    "from langgraph.graph import StateGraph, START, END\n",
    "\n",
    "#BUILD THE GRAPH\n",
    "builder = StateGraph(State)\n",
    "builder.add_node(\"first_node\",first_node)\n",
    "builder.add_node(\"second_node\",second_node)\n",
    "builder.add_node(\"third_node\",third_node)\n",
    "\n",
    "## LOGIC\n",
    "builder.add_edge(START,\"first_node\")\n",
    "builder.add_conditional_edges(\"first_node\",decide_play)\n",
    "builder.add_edge(\"second_node\",END)\n",
    "builder.add_edge(\"third_node\",END)\n",
    "\n",
    "# COMPILE AND DISPLY\n",
    "graph = builder.compile()\n",
    "\n",
    "display(Image(graph.get_graph().draw_mermaid_png()))"
   ]
  },
  {
   "cell_type": "code",
   "execution_count": null,
   "metadata": {},
   "outputs": [],
   "source": [
    "graph.invoke({\"graph_state\":\"Hi , I am Kinnary. \"})"
   ]
  },
  {
   "cell_type": "markdown",
   "metadata": {},
   "source": [
    "## START WITH BASIC CHATBOT with LANGGRAPH"
   ]
  },
  {
   "cell_type": "code",
   "execution_count": null,
   "metadata": {},
   "outputs": [],
   "source": [
    "from typing_extensions import TypedDict\n",
    "from typing import Annotated\n",
    "from langgraph.graph import StateGraph, START, END\n",
    "from langgraph.graph.message import add_messages\n",
    "import os\n",
    "import dotenv\n",
    "dotenv.load_dotenv()\n",
    "os.environ['GROQ_API_KEY'] = os.environ['GROQ_API_KEY']\n"
   ]
  },
  {
   "cell_type": "code",
   "execution_count": null,
   "metadata": {},
   "outputs": [],
   "source": [
    "class State(TypedDict):\n",
    "    messages:Annotated[list[str],add_messages]\n"
   ]
  },
  {
   "cell_type": "code",
   "execution_count": null,
   "metadata": {},
   "outputs": [],
   "source": [
    "from langchain_groq import ChatGroq\n",
    "llm=ChatGroq(model=\"gemma2-9b-it\")\n",
    "llm\n",
    "\n",
    "def chatbot(state:State):\n",
    "    return {\"messages\":[llm.invoke(state[\"messages\"])]}"
   ]
  },
  {
   "cell_type": "code",
   "execution_count": null,
   "metadata": {},
   "outputs": [],
   "source": [
    "graph_builder = StateGraph(State)\n",
    "graph_builder.add_node(\"chatbot\",chatbot)\n",
    "graph_builder.add_edge(START, \"chatbot\")\n",
    "graph_builder.add_edge(\"chatbot\", END)\n",
    "graph = graph_builder.compile()"
   ]
  },
  {
   "cell_type": "code",
   "execution_count": null,
   "metadata": {},
   "outputs": [],
   "source": [
    "from IPython.display import Image, display\n",
    "display(Image(graph.get_graph().draw_mermaid_png()))"
   ]
  },
  {
   "cell_type": "code",
   "execution_count": null,
   "metadata": {},
   "outputs": [],
   "source": [
    "def stream_graph_updates(user_input: str):\n",
    "    for event in graph.stream({\"messages\": [{\"role\": \"user\", \"content\": user_input}]}):\n",
    "        print(event)\n",
    "        for value in event.values():\n",
    "            print(\"Assistant:\", value[\"messages\"][-1].content)"
   ]
  },
  {
   "cell_type": "code",
   "execution_count": null,
   "metadata": {},
   "outputs": [],
   "source": [
    "while True:\n",
    "    try:\n",
    "        user_input = input(\"User: \")\n",
    "        if user_input.lower() in [\"quit\", \"exit\", \"q\"]:\n",
    "            print(\"Goodbye!\")\n",
    "            break\n",
    "\n",
    "        stream_graph_updates(user_input)\n",
    "    except: \n",
    "        # fallback if input() is not available\n",
    "        user_input = \"What do you know about LangGraph?\"\n",
    "        print(\"User: \" + user_input)\n",
    "        stream_graph_updates(user_input)\n",
    "        break"
   ]
  },
  {
   "cell_type": "markdown",
   "metadata": {},
   "source": [
    "## LANGRAPH AND CHAINS"
   ]
  },
  {
   "cell_type": "code",
   "execution_count": null,
   "metadata": {},
   "outputs": [],
   "source": [
    "from pprint import pprint\n",
    "from langchain_core.messages import AIMessage, HumanMessage\n",
    "\n",
    "messages = [AIMessage(content=f\"So you said you were researching ocean mammals?\", name=\"Model\")]\n",
    "messages.append(HumanMessage(content=f\"Yes, that's right.\",name=\"Lance\"))\n",
    "messages.append(AIMessage(content=f\"Great, what would you like to learn about.\", name=\"Model\"))\n",
    "messages.append(HumanMessage(content=f\"I want to learn about the best place to see Orcas in the US.\", name=\"Lance\"))\n",
    "\n",
    "for m in messages:\n",
    "    m.pretty_print()"
   ]
  },
  {
   "cell_type": "code",
   "execution_count": null,
   "metadata": {},
   "outputs": [],
   "source": [
    "# CREATE CHAIN USING GROQ MODEL FOR CHATBOT AND TOOL\n",
    "\n",
    "#STEP 1 : IMPORTS and LOAD ENV VARIABLES\n",
    "import os\n",
    "import dotenv\n",
    "from langchain_groq import ChatGroq\n",
    "from langgraph.graph import StateGraph, START, END\n",
    "from typing_extensions import TypedDict\n",
    "from typing import Annotated\n",
    "from langgraph.graph.message import add_messages\n",
    "from langchain_core.messages import AnyMessage\n",
    "from IPython.display import Image, display\n",
    "\n",
    "\n",
    "dotenv.load_dotenv()\n",
    "os.environ['GROQ_API_KEY'] = os.environ['GROQ_API_KEY']"
   ]
  },
  {
   "cell_type": "code",
   "execution_count": null,
   "metadata": {},
   "outputs": [],
   "source": [
    "# STEP 2 DEFINE OUR MODEL: \n",
    "llm = ChatGroq(model=\"qwen-2.5-32b\")\n",
    "result = llm.invoke(messages)\n",
    "print(result.content)"
   ]
  },
  {
   "cell_type": "code",
   "execution_count": null,
   "metadata": {},
   "outputs": [],
   "source": [
    "# STEP 3 : CREATE CUSTOM TOOL TO INTEGRATE\n",
    "def add(a:int,b:int)->int:\n",
    "    \"\"\" ADD TWO NUMBERS\"\"\"\n",
    "    return a+b\n",
    "\n",
    "def multiply(a:int,b:int)->int:\n",
    "    \"\"\" MULTIPLIES TWO NUMBERS\"\"\"\n",
    "    return a*b\n",
    "\n",
    "# STEP  4: BIND THE TOOL WITH LLM\n",
    "llm_with_tool = llm.bind_tools([add])\n",
    "\n",
    "# STEP 5: INVOKE THE LLM WITH TOOL FOR EXAMPLE // NOT NEEDED OTHERWISE\n",
    "tool_call = llm_with_tool.invoke([HumanMessage(content=\"What is 2+3?\", name=\"Kinnary\")])\n",
    "print(tool_call)\n",
    "print(tool_call.tool_calls)\n",
    "\n"
   ]
  },
  {
   "cell_type": "code",
   "execution_count": null,
   "metadata": {},
   "outputs": [],
   "source": [
    "initial_message=[AIMessage(content=\"Hello! How can I assist you?\", name=\"Model\"),\n",
    "                    HumanMessage(content=\"I'm looking for information on generative ai.\", name=\"Krish\")\n",
    "                   ]\n",
    "# New message to add\n",
    "new_message = AIMessage(content=\"Sure, I can help with that. What specifically are you interested in?\", name=\"Model\")\n",
    "\n",
    "add_messages(initial_message,new_message)"
   ]
  },
  {
   "cell_type": "code",
   "execution_count": null,
   "metadata": {},
   "outputs": [],
   "source": [
    "# STEP 6: BUILD THE GRAPH\n",
    "\n",
    "\n",
    "# 6.1 GENERATE MESSAGE STATE CLASS\n",
    "class MessageState(TypedDict):\n",
    "    messages:Annotated[list[AnyMessage],add_messages]\n",
    "\n",
    "\n",
    "# 6.2 CREATE FUNCTION TO INVOKE LLM WITH TOOL WITH CURRENT STATE OF GRAPH\n",
    "def tool_calling_llm(state: MessageState):\n",
    "    return {\"messages\": [llm_with_tool.invoke(state[\"messages\"])]}\n",
    "\n",
    "\n",
    "\n",
    "# 6.3 CREATE GRAPH BUILDER\n",
    "graph_builder = StateGraph(MessageState)\n",
    "\n",
    "# 6.4 ADD NODES\n",
    "graph_builder.add_node(\"tool_calling_llm\",tool_calling_llm)\n",
    "\n",
    "# 6.5 ADD EDGES\n",
    "graph_builder.add_edge(START, \"tool_calling_llm\")\n",
    "graph_builder.add_edge(\"tool_calling_llm\", END) \n",
    "\n",
    "# 6.6 COMPILE GRAPH\n",
    "graph = graph_builder.compile()\n",
    "\n",
    "# 6.7 DISPLAY GRAPH\n",
    "display(Image(graph.get_graph().draw_mermaid_png()))\n",
    "\n",
    "messages=graph.invoke({\"messages\":HumanMessage(content=\"What is 2 minus 3\")})\n",
    "for m in messages['messages']:\n",
    "    m.pretty_print()\n"
   ]
  },
  {
   "cell_type": "code",
   "execution_count": null,
   "metadata": {},
   "outputs": [],
   "source": [
    "from langgraph.prebuilt import ToolNode, tools_condition\n",
    "\n",
    "llm_with_tool = llm.bind_tools([add, multiply])\n",
    "\n",
    "# 6.8 ADD TOOL NODE\n",
    "graph_builder = StateGraph(MessageState)\n",
    "\n",
    "# 6.8.1 ADD NODES\n",
    "graph_builder.add_node(\"llm_with_tool\",tool_calling_llm)\n",
    "graph_builder.add_node(\"tools\",ToolNode([add, multiply]))\n",
    "\n",
    "# 6.8.2 ADD EDGES\n",
    "graph_builder.add_edge(START, \"llm_with_tool\")\n",
    "graph_builder.add_conditional_edges(\"llm_with_tool\",tools_condition)\n",
    "graph_builder.add_edge(\"tools\", END)\n",
    "\n",
    "# 6.8.3 COMPILE GRAPH\n",
    "graph = graph_builder.compile()     \n",
    "\n",
    "# 6.8.4 DISPLAY GRAPH\n",
    "display(Image(graph.get_graph().draw_mermaid_png()))"
   ]
  },
  {
   "cell_type": "code",
   "execution_count": null,
   "metadata": {},
   "outputs": [],
   "source": [
    "messages= graph.invoke({\"messages\":HumanMessage(content=\"What is 2 multiplied 3 plus 4 minus 5\")})\n",
    "for m in messages['messages']:\n",
    "    m.pretty_print()\n"
   ]
  },
  {
   "cell_type": "code",
   "execution_count": null,
   "metadata": {},
   "outputs": [],
   "source": []
  }
 ],
 "metadata": {
  "kernelspec": {
   "display_name": "Python 3",
   "language": "python",
   "name": "python3"
  },
  "language_info": {
   "codemirror_mode": {
    "name": "ipython",
    "version": 3
   },
   "file_extension": ".py",
   "mimetype": "text/x-python",
   "name": "python",
   "nbconvert_exporter": "python",
   "pygments_lexer": "ipython3",
   "version": "3.12.0"
  }
 },
 "nbformat": 4,
 "nbformat_minor": 2
}
